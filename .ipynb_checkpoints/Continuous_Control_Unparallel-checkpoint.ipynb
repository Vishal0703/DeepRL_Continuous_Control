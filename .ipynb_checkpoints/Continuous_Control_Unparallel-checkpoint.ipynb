{
 "cells": [
  {
   "cell_type": "markdown",
   "metadata": {},
   "source": [
    "# Continuous Control\n",
    "\n",
    "---\n",
    "\n",
    "In this notebook, you will learn how to use the Unity ML-Agents environment for the second project of the [Deep Reinforcement Learning Nanodegree](https://www.udacity.com/course/deep-reinforcement-learning-nanodegree--nd893) program.\n",
    "\n",
    "### 1. Start the Environment\n",
    "\n",
    "We begin by importing the necessary packages.  If the code cell below returns an error, please revisit the project instructions to double-check that you have installed [Unity ML-Agents](https://github.com/Unity-Technologies/ml-agents/blob/master/docs/Installation.md) and [NumPy](http://www.numpy.org/)."
   ]
  },
  {
   "cell_type": "code",
   "execution_count": 1,
   "metadata": {},
   "outputs": [],
   "source": [
    "from unityagents import UnityEnvironment\n",
    "import numpy as np\n",
    "from collections import deque\n",
    "import torch"
   ]
  },
  {
   "cell_type": "markdown",
   "metadata": {},
   "source": [
    "Next, we will start the environment!  **_Before running the code cell below_**, change the `file_name` parameter to match the location of the Unity environment that you downloaded.\n",
    "\n",
    "- **Mac**: `\"path/to/Reacher.app\"`\n",
    "- **Windows** (x86): `\"path/to/Reacher_Windows_x86/Reacher.exe\"`\n",
    "- **Windows** (x86_64): `\"path/to/Reacher_Windows_x86_64/Reacher.exe\"`\n",
    "- **Linux** (x86): `\"path/to/Reacher_Linux/Reacher.x86\"`\n",
    "- **Linux** (x86_64): `\"path/to/Reacher_Linux/Reacher.x86_64\"`\n",
    "- **Linux** (x86, headless): `\"path/to/Reacher_Linux_NoVis/Reacher.x86\"`\n",
    "- **Linux** (x86_64, headless): `\"path/to/Reacher_Linux_NoVis/Reacher.x86_64\"`\n",
    "\n",
    "For instance, if you are using a Mac, then you downloaded `Reacher.app`.  If this file is in the same folder as the notebook, then the line below should appear as follows:\n",
    "```\n",
    "env = UnityEnvironment(file_name=\"Reacher.app\")\n",
    "```"
   ]
  },
  {
   "cell_type": "code",
   "execution_count": 2,
   "metadata": {},
   "outputs": [
    {
     "name": "stderr",
     "output_type": "stream",
     "text": [
      "INFO:unityagents:\n",
      "'Academy' started successfully!\n",
      "Unity Academy name: Academy\n",
      "        Number of Brains: 1\n",
      "        Number of External Brains : 1\n",
      "        Lesson number : 0\n",
      "        Reset Parameters :\n",
      "\t\tgoal_speed -> 1.0\n",
      "\t\tgoal_size -> 5.0\n",
      "Unity brain name: ReacherBrain\n",
      "        Number of Visual Observations (per agent): 0\n",
      "        Vector Observation space type: continuous\n",
      "        Vector Observation space size (per agent): 33\n",
      "        Number of stacked Vector Observation: 1\n",
      "        Vector Action space type: continuous\n",
      "        Vector Action space size (per agent): 4\n",
      "        Vector Action descriptions: , , , \n"
     ]
    }
   ],
   "source": [
    "env = UnityEnvironment(file_name='./Reacher_Linux_20/Reacher.x86_64')"
   ]
  },
  {
   "cell_type": "markdown",
   "metadata": {},
   "source": [
    "Environments contain **_brains_** which are responsible for deciding the actions of their associated agents. Here we check for the first brain available, and set it as the default brain we will be controlling from Python."
   ]
  },
  {
   "cell_type": "code",
   "execution_count": 3,
   "metadata": {},
   "outputs": [],
   "source": [
    "# get the default brain\n",
    "brain_name = env.brain_names[0]\n",
    "brain = env.brains[brain_name]\n"
   ]
  },
  {
   "cell_type": "markdown",
   "metadata": {},
   "source": [
    "\n",
    "### 2. Examine the State and Action Spaces\n",
    "\n",
    "In this environment, a double-jointed arm can move to target locations. A reward of `+0.1` is provided for each step that the agent's hand is in the goal location. Thus, the goal of your agent is to maintain its position at the target location for as many time steps as possible.\n",
    "\n",
    "The observation space consists of `33` variables corresponding to position, rotation, velocity, and angular velocities of the arm.  Each action is a vector with four numbers, corresponding to torque applicable to two joints.  Every entry in the action vector must be a number between `-1` and `1`.\n",
    "\n",
    "Run the code cell below to print some information about the environment."
   ]
  },
  {
   "cell_type": "code",
   "execution_count": 4,
   "metadata": {},
   "outputs": [
    {
     "name": "stdout",
     "output_type": "stream",
     "text": [
      "Number of agents: 20\n",
      "Size of each action: 4\n",
      "There are 20 agents. Each observes a state with length: 33\n",
      "The state for the first agent looks like: [ 0.00000000e+00 -4.00000000e+00  0.00000000e+00  1.00000000e+00\n",
      " -0.00000000e+00 -0.00000000e+00 -4.37113883e-08  0.00000000e+00\n",
      "  0.00000000e+00  0.00000000e+00  0.00000000e+00  0.00000000e+00\n",
      "  0.00000000e+00  0.00000000e+00 -1.00000000e+01  0.00000000e+00\n",
      "  1.00000000e+00 -0.00000000e+00 -0.00000000e+00 -4.37113883e-08\n",
      "  0.00000000e+00  0.00000000e+00  0.00000000e+00  0.00000000e+00\n",
      "  0.00000000e+00  0.00000000e+00  5.75471878e+00 -1.00000000e+00\n",
      "  5.55726624e+00  0.00000000e+00  1.00000000e+00  0.00000000e+00\n",
      " -1.68164849e-01]\n"
     ]
    }
   ],
   "source": [
    "# reset the environment\n",
    "env_info = env.reset(train_mode=True)[brain_name]\n",
    "\n",
    "# number of agents\n",
    "num_agents = len(env_info.agents)\n",
    "print('Number of agents:', num_agents)\n",
    "\n",
    "# size of each action\n",
    "action_size = brain.vector_action_space_size\n",
    "print('Size of each action:', action_size)\n",
    "\n",
    "# examine the state space \n",
    "states = env_info.vector_observations\n",
    "state_size = states.shape[1]\n",
    "print('There are {} agents. Each observes a state with length: {}'.format(states.shape[0], state_size))\n",
    "print('The state for the first agent looks like:', states[0])"
   ]
  },
  {
   "cell_type": "markdown",
   "metadata": {},
   "source": [
    "### 3. Take Random Actions in the Environment\n",
    "\n",
    "In the next code cell, you will learn how to use the Python API to control the agent and receive feedback from the environment.\n",
    "\n",
    "Once this cell is executed, you will watch the agent's performance, if it selects an action at random with each time step.  A window should pop up that allows you to observe the agent, as it moves through the environment.  \n",
    "\n",
    "Of course, as part of the project, you'll have to change the code so that the agent is able to use its experience to gradually choose better actions when interacting with the environment!"
   ]
  },
  {
   "cell_type": "code",
   "execution_count": null,
   "metadata": {},
   "outputs": [],
   "source": [
    "from multiprocessing import Process, Lock, Condition, Queue\n",
    "from agents import Learner, Agent\n",
    "import multiprocessing as mp\n",
    "\n",
    "NOISE_EPSILON = 0.3\n",
    "NO_OF_TIMES_UPDATE = 10\n",
    "UPDATE_EVERY = 20\n",
    "COPY_EVERY = 200\n",
    "rollout_length = 5\n",
    "GAMMA = 0.99\n",
    "TD_EPSILON = 1e-3"
   ]
  },
  {
   "cell_type": "code",
   "execution_count": null,
   "metadata": {},
   "outputs": [],
   "source": [
    "def agent_func(ag, learner, num_episodes, max_eps_len, score_list, scores_window):\n",
    "    \n",
    "    t_step = 0\n",
    "    t_copy = 0\n",
    "    for episode in range(num_episodes):\n",
    "        env_info = env.reset(train_mode=True)[brain_name]     # reset the environment    \n",
    "        states = env_info.vector_observations                  # get the current state (for each agent)\n",
    "        scores = np.zeros(num_agents)\n",
    "        ep_len = 0\n",
    "        flag = 0\n",
    "        while ep_len != max_eps_len:\n",
    "            \n",
    "            reward = []\n",
    "            for i in range(rollout_length):\n",
    "                ep_len += 1\n",
    "                t_step = (t_step + 1)%UPDATE_EVERY\n",
    "                if(t_step == 0):\n",
    "                    if len(learner.replaymem) > learner.batch_size:\n",
    "                        #print(\"learning\")\n",
    "                        for i in range(NO_OF_TIMES_UPDATE): \n",
    "                            learner.learn()\n",
    "                            \n",
    "                states = torch.tensor(states).float()\n",
    "                act = ag.ret_act(states)\n",
    "                #print(act.shape)\n",
    "                noise = torch.from_numpy(NOISE_EPSILON*np.random.randn(num_agents, action_size)).float()\n",
    "                act = act + noise\n",
    "                #print(act.shape)\n",
    "                if i == 0:\n",
    "                    st_in = states\n",
    "                    actions = act\n",
    "                    q_predict = ag.critic_network(states, actions).detach().numpy()\n",
    "                \n",
    "                act_toenv = act.detach().numpy() \n",
    "                env_info = env.step(act_toenv)[brain_name]\n",
    "                next_states = env_info.vector_observations\n",
    "                rewards = env_info.rewards\n",
    "                scores += rewards\n",
    "                dones = env_info.local_done\n",
    "                reward.append(rewards)\n",
    "                states = next_states\n",
    "                if(np.any(dones)):\n",
    "                    for _ in range(rollout_length-1-i):\n",
    "                        reward.append(0)\n",
    "                        next_states = 0\n",
    "                    flag = 1\n",
    "                    break\n",
    "\n",
    "            reward = np.transpose(np.array(reward))\n",
    "            disc = 1\n",
    "            g = []\n",
    "            for _ in range(rollout_length):\n",
    "                g.append(disc)\n",
    "                disc *= GAMMA\n",
    "\n",
    "            g = np.array(g)\n",
    "\n",
    "            disc_reward = g*reward          # discounted reward\n",
    "            \n",
    "            dones = np.array(dones)\n",
    "            next_states = torch.tensor(next_states).float()\n",
    "            action_finalst = ag.ret_act(next_states)\n",
    "            temp = ag.ret_qval(next_states, action_finalst).detach().numpy()\n",
    "            #rint(temp.shape)\n",
    "            #print(dones.shape)\n",
    "            #print(disc_reward.shape)\n",
    "            q_finalst = (1-dones)*temp\n",
    "            \n",
    "            #print(q_finalst.shape)\n",
    "            y_val = np.transpose(np.sum(disc_reward, axis = 1) + disc*GAMMA*q_finalst)  # target value\n",
    "            #print(y_val.shape)\n",
    "            td_error = np.abs(y_val - q_predict) + TD_EPSILON\n",
    "\n",
    "            for i in range(num_agents):\n",
    "                priority = np.sum(td_error[i])\n",
    "                st_init = st_in[i]\n",
    "                st_final = next_states[i]\n",
    "                action = actions[i]\n",
    "                done = dones[i]\n",
    "                r = reward[i]\n",
    "                exp = (st_init, st_final, action, done, r)\n",
    "                learner.replaymem.add(priority, exp)\n",
    "\n",
    "            t_copy = (t_copy + 1)%COPY_EVERY\n",
    "            \n",
    "            if(t_copy == 0):\n",
    "                for actor_param, learner_param in zip(ag.actor_network.parameters(), learner.actor_network.parameters()):\n",
    "                    actor_param.data.copy_(learner_param.data)\n",
    "            \n",
    "                for actor_param, learner_param in zip(ag.critic_network.parameters(), learner.critic_network.parameters()):\n",
    "                    actor_param.data.copy_(learner_param.data)\n",
    "            \n",
    "            if flag == 1:\n",
    "                break\n",
    "                \n",
    "        score_list.append(np.mean(scores))\n",
    "        scores_window.append(np.mean(scores))\n",
    "        \n",
    "        if episode % 100 == 0:\n",
    "            print('\\rEpisode {}\\tAverage Score: {:.4f}'.format(episode, np.mean(scores_window)))\n",
    "            torch.save(ag.actor_network.state_dict(), 'agent_actor.pth')\n",
    "            torch.save(ag.critic_network.state_dict(), 'agent_critic.pth')\n",
    "            torch.save(learner.actor_network.state_dict(), 'learner_actor.pth')\n",
    "            torch.save(learner.critic_network.state_dict(), 'learner_critic.pth')\n",
    "        if np.mean(scores_window)>=30.0:\n",
    "            print('\\nEnvironment solved in {:d} episodes!\\tAverage Score: {:.4f}'.format(episode-100, np.mean(scores_window)))\n",
    "            torch.save(ag.actor_network.state_dict(), 'agent_actor.pth')\n",
    "            torch.save(ag.critic_network.state_dict(), 'agent_critic.pth')\n",
    "            torch.save(learner.actor_network.state_dict(), 'learner_actor.pth')\n",
    "            torch.save(learner.critic_network.state_dict(), 'learner_critic.pth')\n",
    "            \n",
    "            break\n",
    "\n",
    "            \n",
    "        "
   ]
  },
  {
   "cell_type": "code",
   "execution_count": null,
   "metadata": {},
   "outputs": [],
   "source": [
    "# def learner_func(learner, mem, scores_window, q1, q2, q3):\n",
    "#     while True:\n",
    "#         cv.acquire()\n",
    "#         cv.wait()\n",
    "#         cv.release()\n",
    "#         print(\"recieve\")\n",
    "        \n",
    "#         if(not q1.empty()):\n",
    "#             mem = q1.get()\n",
    "#         print(len(mem))\n",
    "#         if len(mem) > learner.batch_size:\n",
    "#             for i in range(NO_OF_TIMES_UPDATE): \n",
    "#                 print(\"learning\")\n",
    "#                 learner.replaymem = mem\n",
    "#                 learner.learn(lock)\n",
    "                \n",
    "#         q1.put(learner.replaymem)\n",
    "#         q2.put(learner)\n",
    "#         if(not q3.empty()):\n",
    "#             scores_window = q3.get()\n",
    "#         if np.mean(scores_window) >= 30.0:\n",
    "#             break\n",
    "            \n",
    "        "
   ]
  },
  {
   "cell_type": "code",
   "execution_count": null,
   "metadata": {},
   "outputs": [],
   "source": [
    "def train(num_episodes, max_eps_len, score_list, seed=12345):\n",
    "    \n",
    "    ag = Agent(state_size, action_size, seed)\n",
    "    learner = Learner(state_size, action_size, seed)\n",
    "    for actor_param, learner_param in zip(ag.actor_network.parameters(), learner.actor_network.parameters()):\n",
    "                    actor_param.data.copy_(learner_param.data)\n",
    "            \n",
    "    for actor_param, learner_param in zip(ag.critic_network.parameters(), learner.critic_network.parameters()):\n",
    "                    actor_param.data.copy_(learner_param.data)\n",
    "    \n",
    "    scores_window = deque(maxlen = 100)\n",
    "    score_list = []\n",
    "    \n",
    "    agent_func(ag, learner, num_episodes, max_eps_len, score_list, scores_window)\n",
    "    \n",
    "    \n",
    "#     p1 = Process(target=learner_func, args=(learner, scores_window, ))\n",
    "#     p2 = Process(target=agent_func, args=(ag, learner, num_episodes, max_eps_len, score_list, scores_window,))\n",
    "    \n",
    "#     p1.start()\n",
    "#     p2.start()\n",
    "    \n",
    "#     p1.join()\n",
    "#     p2.join()\n",
    "    \n",
    "    \n",
    "    \n",
    "    \n",
    "    "
   ]
  },
  {
   "cell_type": "code",
   "execution_count": null,
   "metadata": {
    "scrolled": true
   },
   "outputs": [
    {
     "name": "stderr",
     "output_type": "stream",
     "text": [
      "/home/vishal/Documents/DeepRL_Continuous_Control/agents.py:109: UserWarning: torch.nn.utils.clip_grad_norm is now deprecated in favor of torch.nn.utils.clip_grad_norm_.\n",
      "  torch.nn.utils.clip_grad_norm(self.critic_network.parameters(), 1)  # gradient clipping\n"
     ]
    },
    {
     "name": "stdout",
     "output_type": "stream",
     "text": [
      "Episode 0\tAverage Score: 0.0225\n",
      "Episode 100\tAverage Score: 0.0179\n"
     ]
    }
   ],
   "source": [
    "# lock = Lock()\n",
    "score_list = []\n",
    "train(10000, 100, score_list)\n",
    "np.save('scores.npy', np.array(score_list))"
   ]
  },
  {
   "cell_type": "code",
   "execution_count": null,
   "metadata": {},
   "outputs": [],
   "source": [
    "locks = Lock()\n",
    "torch.abs()\n",
    "\n",
    "def abc(lock):\n",
    "    lock.acquire()\n",
    "    a = np.array([1,2,3])\n",
    "    lock.release()\n",
    "    print(a)\n",
    "    \n",
    "abc(locks)"
   ]
  },
  {
   "cell_type": "code",
   "execution_count": 15,
   "metadata": {},
   "outputs": [
    {
     "data": {
      "text/plain": [
       "torch.Size([3, 1])"
      ]
     },
     "execution_count": 15,
     "metadata": {},
     "output_type": "execute_result"
    }
   ],
   "source": [
    "b = torch.tensor([1.3,2.5,3.4])\n",
    "b.shape\n",
    "b = torch.reshape(b, shape = (3,1))\n",
    "b.shape"
   ]
  },
  {
   "cell_type": "code",
   "execution_count": 16,
   "metadata": {},
   "outputs": [
    {
     "data": {
      "text/plain": [
       "array([[0.],\n",
       "       [0.],\n",
       "       [0.]])"
      ]
     },
     "execution_count": 16,
     "metadata": {},
     "output_type": "execute_result"
    }
   ],
   "source": [
    "a = np.array([1,2,3])\n",
    "c = np.zeros(shape=(3,1))\n",
    "c"
   ]
  },
  {
   "cell_type": "code",
   "execution_count": 17,
   "metadata": {},
   "outputs": [
    {
     "data": {
      "text/plain": [
       "tensor([[ 0.],\n",
       "        [ 0.],\n",
       "        [ 0.]])"
      ]
     },
     "execution_count": 17,
     "metadata": {},
     "output_type": "execute_result"
    }
   ],
   "source": [
    "d = torch.zeros(size = (3,1))\n",
    "d"
   ]
  },
  {
   "cell_type": "code",
   "execution_count": 20,
   "metadata": {},
   "outputs": [
    {
     "data": {
      "text/plain": [
       "tensor([[ 0.],\n",
       "        [ 0.],\n",
       "        [ 0.]])"
      ]
     },
     "execution_count": 20,
     "metadata": {},
     "output_type": "execute_result"
    }
   ],
   "source": [
    "d/b"
   ]
  },
  {
   "cell_type": "code",
   "execution_count": 23,
   "metadata": {},
   "outputs": [
    {
     "data": {
      "text/plain": [
       "array([[0.],\n",
       "       [0.],\n",
       "       [0.]])"
      ]
     },
     "execution_count": 23,
     "metadata": {},
     "output_type": "execute_result"
    }
   ],
   "source": [
    "a = np.reshape(a, (3,1))\n",
    "a*c"
   ]
  },
  {
   "cell_type": "code",
   "execution_count": null,
   "metadata": {
    "scrolled": true
   },
   "outputs": [],
   "source": [
    "g = [1,2,3]\n",
    "g = np.array(g)\n",
    "g\n",
    "\n",
    "r = torch.tensor([[1,2],\n",
    "                 [4,5],\n",
    "                 [7,8]])\n",
    "k = torch.transpose(r, 0, 1)\n",
    "g + k"
   ]
  },
  {
   "cell_type": "code",
   "execution_count": null,
   "metadata": {},
   "outputs": [],
   "source": [
    "# env_info = env.reset(train_mode=False)[brain_name]     # reset the environment    \n",
    "# states = env_info.vector_observations                  # get the current state (for each agent)\n",
    "# scores = np.zeros(num_agents)                          # initialize the score (for each agent)\n",
    "# while True:\n",
    "#     actions = np.random.randn(num_agents, action_size) # select an action (for each agent)\n",
    "#     actions = np.clip(actions, -1, 1)                  # all actions between -1 and 1\n",
    "#     env_info = env.step(actions)[brain_name]           # send all actions to tne environment\n",
    "#     next_states = env_info.vector_observations         # get next state (for each agent)\n",
    "#     rewards = env_info.rewards                         # get reward (for each agent)\n",
    "#     dones = env_info.local_done                        # see if episode finished\n",
    "#     scores += env_info.rewards                         # update the score (for each agent)\n",
    "#     states = next_states                               # roll over states to next time step\n",
    "#     if np.any(dones):                                  # exit loop if episode finished\n",
    "#         break\n",
    "# print('Total score (averaged over agents) this episode: {}'.format(np.mean(scores)))"
   ]
  },
  {
   "cell_type": "markdown",
   "metadata": {},
   "source": [
    "When finished, you can close the environment."
   ]
  },
  {
   "cell_type": "code",
   "execution_count": null,
   "metadata": {},
   "outputs": [],
   "source": [
    "env.close()"
   ]
  },
  {
   "cell_type": "markdown",
   "metadata": {},
   "source": [
    "### 4. It's Your Turn!\n",
    "\n",
    "Now it's your turn to train your own agent to solve the environment!  When training the environment, set `train_mode=True`, so that the line for resetting the environment looks like the following:\n",
    "```python\n",
    "env_info = env.reset(train_mode=True)[brain_name]\n",
    "```"
   ]
  }
 ],
 "metadata": {
  "kernelspec": {
   "display_name": "drlnd",
   "language": "python",
   "name": "drlnd"
  },
  "language_info": {
   "codemirror_mode": {
    "name": "ipython",
    "version": 3
   },
   "file_extension": ".py",
   "mimetype": "text/x-python",
   "name": "python",
   "nbconvert_exporter": "python",
   "pygments_lexer": "ipython3",
   "version": "3.6.7"
  }
 },
 "nbformat": 4,
 "nbformat_minor": 2
}
